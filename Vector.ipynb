{
  "nbformat": 4,
  "nbformat_minor": 0,
  "metadata": {
    "colab": {
      "provenance": [],
      "gpuType": "T4",
      "authorship_tag": "ABX9TyO4K8KYdZk8y2okgpM8eL/l",
      "include_colab_link": true
    },
    "kernelspec": {
      "name": "python3",
      "display_name": "Python 3"
    },
    "language_info": {
      "name": "python"
    },
    "accelerator": "GPU",
    "gpuClass": "standard"
  },
  "cells": [
    {
      "cell_type": "markdown",
      "metadata": {
        "id": "view-in-github",
        "colab_type": "text"
      },
      "source": [
        "<a href=\"https://colab.research.google.com/github/Madhura0802/Vector-Addition/blob/main/Vector.ipynb\" target=\"_parent\"><img src=\"https://colab.research.google.com/assets/colab-badge.svg\" alt=\"Open In Colab\"/></a>"
      ]
    },
    {
      "cell_type": "code",
      "execution_count": 1,
      "metadata": {
        "colab": {
          "base_uri": "https://localhost:8080/"
        },
        "id": "gLW07BrNcprX",
        "outputId": "72a35618-b127-495e-b31f-279ca50925e4"
      },
      "outputs": [
        {
          "output_type": "stream",
          "name": "stdout",
          "text": [
            "nvcc: NVIDIA (R) Cuda compiler driver\n",
            "Copyright (c) 2005-2022 NVIDIA Corporation\n",
            "Built on Wed_Sep_21_10:33:58_PDT_2022\n",
            "Cuda compilation tools, release 11.8, V11.8.89\n",
            "Build cuda_11.8.r11.8/compiler.31833905_0\n"
          ]
        }
      ],
      "source": [
        "!nvcc --version"
      ]
    },
    {
      "cell_type": "code",
      "source": [
        "code = \"\"\"\n",
        "#include <stdio.h>\n",
        "#include <stdlib.h>\n",
        "#define N 1000000\n",
        "__global__ void add(int *a, int *b, int *c) {\n",
        "int tid = blockIdx.x * blockDim.x + threadIdx.x;\n",
        "if (tid < N) {\n",
        "c[tid] = a[tid] + b[tid];\n",
        "}\n",
        "}\n",
        "int main() {\n",
        "int *a, *b, *c;\n",
        "int *d_a, *d_b, *d_c;\n",
        "int size = N * sizeof(int);\n",
        "// Allocate memory on host\n",
        "a = (int*)malloc(size);\n",
        "b = (int*)malloc(size);\n",
        "c = (int*)malloc(size);\n",
        "// Initialize arrays\n",
        "for (int i = 0; i < N; i++) {\n",
        "a[i] = i;\n",
        "b[i] = i * 2;\n",
        "}\n",
        "// Allocate memory on device\n",
        "cudaMalloc(&d_a, size);\n",
        "cudaMalloc(&d_b, size);\n",
        "cudaMalloc(&d_c, size);\n",
        "// Copy data from host to device\n",
        "cudaMemcpy(d_a, a, size, cudaMemcpyHostToDevice);\n",
        "cudaMemcpy(d_b, b, size, cudaMemcpyHostToDevice);\n",
        "// Launch kernel with 1 million threads\n",
        "add<<<(N + 255) / 256, 256>>>(d_a, d_b, d_c);\n",
        "// Copy result from device to host\n",
        "cudaMemcpy(c, d_c, size, cudaMemcpyDeviceToHost);\n",
        "// Print first and last elements of result\n",
        "printf(\"c[0]=%d, c[%d] = %d\",c[0],N-1,c[N-1]);\n",
        "// Free memory\n",
        "free(a);\n",
        "free(b);\n",
        "free(c);\n",
        "cudaFree(d_a);\n",
        "cudaFree(d_b);\n",
        "cudaFree(d_c);\n",
        "return 0;\n",
        "}\n",
        "\"\"\"\n"
      ],
      "metadata": {
        "id": "TQrBTzFqd2zU"
      },
      "execution_count": 11,
      "outputs": []
    },
    {
      "cell_type": "code",
      "source": [
        "text_file = open(\"Vector.cu\",\"w\")\n",
        "text_file.write(code)\n",
        "text_file.close()\n"
      ],
      "metadata": {
        "id": "HtITn5JfeEnO"
      },
      "execution_count": 12,
      "outputs": []
    },
    {
      "cell_type": "code",
      "source": [
        "!nvcc Vector.cu"
      ],
      "metadata": {
        "id": "P7jmfqJ7eJ0_"
      },
      "execution_count": 13,
      "outputs": []
    },
    {
      "cell_type": "code",
      "source": [
        "!./a.out"
      ],
      "metadata": {
        "colab": {
          "base_uri": "https://localhost:8080/"
        },
        "id": "NxrzItmkeSGC",
        "outputId": "9f1d4826-702d-40fa-b6fc-7a358e2f438b"
      },
      "execution_count": 14,
      "outputs": [
        {
          "output_type": "stream",
          "name": "stdout",
          "text": [
            "c[0]=0, c[999999] = 2999997"
          ]
        }
      ]
    },
    {
      "cell_type": "code",
      "source": [
        "!nvprof ./a.out"
      ],
      "metadata": {
        "colab": {
          "base_uri": "https://localhost:8080/"
        },
        "id": "fFgPv9urea0O",
        "outputId": "e424cd04-474e-4c33-a972-571693ba41ee"
      },
      "execution_count": 15,
      "outputs": [
        {
          "output_type": "stream",
          "name": "stdout",
          "text": [
            "==2086== NVPROF is profiling process 2086, command: ./a.out\n",
            "==2086== c[0]=0, c[999999] = 2999997Profiling application: ./a.out\n",
            "==2086== Profiling result:\n",
            "            Type  Time(%)      Time     Calls       Avg       Min       Max  Name\n",
            " GPU activities:   50.57%  1.5775ms         1  1.5775ms  1.5775ms  1.5775ms  [CUDA memcpy DtoH]\n",
            "                   47.92%  1.4950ms         2  747.49us  703.47us  791.50us  [CUDA memcpy HtoD]\n",
            "                    1.51%  47.135us         1  47.135us  47.135us  47.135us  add(int*, int*, int*)\n",
            "      API calls:   97.01%  223.47ms         3  74.488ms  92.123us  223.27ms  cudaMalloc\n",
            "                    2.08%  4.7886ms         3  1.5962ms  950.19us  2.8591ms  cudaMemcpy\n",
            "                    0.59%  1.3556ms         1  1.3556ms  1.3556ms  1.3556ms  cuDeviceGetPCIBusId\n",
            "                    0.23%  535.88us         3  178.63us  134.49us  201.36us  cudaFree\n",
            "                    0.06%  135.69us       101  1.3430us     128ns  52.948us  cuDeviceGetAttribute\n",
            "                    0.02%  38.142us         1  38.142us  38.142us  38.142us  cudaLaunchKernel\n",
            "                    0.01%  28.166us         1  28.166us  28.166us  28.166us  cuDeviceGetName\n",
            "                    0.00%  1.6660us         3     555ns     265ns  1.1340us  cuDeviceGetCount\n",
            "                    0.00%     871ns         2     435ns     183ns     688ns  cuDeviceGet\n",
            "                    0.00%     743ns         1     743ns     743ns     743ns  cuDeviceTotalMem\n",
            "                    0.00%     340ns         1     340ns     340ns     340ns  cuModuleGetLoadingMode\n",
            "                    0.00%     323ns         1     323ns     323ns     323ns  cuDeviceGetUuid\n"
          ]
        }
      ]
    }
  ]
}
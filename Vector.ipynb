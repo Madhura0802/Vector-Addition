{
  "nbformat": 4,
  "nbformat_minor": 0,
  "metadata": {
    "colab": {
      "provenance": [],
      "gpuType": "T4",
      "authorship_tag": "ABX9TyOiMv5E/S+hYqardCHfSgHp",
      "include_colab_link": true
    },
    "kernelspec": {
      "name": "python3",
      "display_name": "Python 3"
    },
    "language_info": {
      "name": "python"
    },
    "accelerator": "GPU",
    "gpuClass": "standard"
  },
  "cells": [
    {
      "cell_type": "markdown",
      "metadata": {
        "id": "view-in-github",
        "colab_type": "text"
      },
      "source": [
        "<a href=\"https://colab.research.google.com/github/Madhura0802/Vector-Addition/blob/main/Vector.ipynb\" target=\"_parent\"><img src=\"https://colab.research.google.com/assets/colab-badge.svg\" alt=\"Open In Colab\"/></a>"
      ]
    },
    {
      "cell_type": "code",
      "execution_count": null,
      "metadata": {
        "colab": {
          "base_uri": "https://localhost:8080/"
        },
        "id": "wOBfRzvGR19J",
        "outputId": "d11cf52b-2e7d-48c0-d9da-88c9255cb419"
      },
      "outputs": [
        {
          "output_type": "stream",
          "name": "stdout",
          "text": [
            "nvcc: NVIDIA (R) Cuda compiler driver\n",
            "Copyright (c) 2005-2022 NVIDIA Corporation\n",
            "Built on Wed_Sep_21_10:33:58_PDT_2022\n",
            "Cuda compilation tools, release 11.8, V11.8.89\n",
            "Build cuda_11.8.r11.8/compiler.31833905_0\n"
          ]
        }
      ],
      "source": [
        "!nvcc --version\n",
        "\n",
        "\n",
        "\n",
        "\n"
      ]
    },
    {
      "cell_type": "code",
      "source": [
        "code = \"\"\"\n",
        "#include <stdio.h>\n",
        "#include <stdlib.h>\n",
        "#define N 1000000\n",
        "__global__ void add(int *a, int *b, int *c) {\n",
        "int tid = blockIdx.x * blockDim.x + threadIdx.x;\n",
        "if (tid < N) {\n",
        "c[tid] = a[tid] + b[tid];\n",
        "}\n",
        "}\n",
        "int main() {\n",
        "int *a, *b, *c;\n",
        "int *d_a, *d_b, *d_c;\n",
        "int size = N * sizeof(int);\n",
        "// Allocate memory on host\n",
        "a = (int*)malloc(size);\n",
        "b = (int*)malloc(size);\n",
        "c = (int*)malloc(size);\n",
        "// Initialize arrays\n",
        "for (int i = 0; i < N; i++) {\n",
        "a[i] = i;\n",
        "b[i] = i * 2;\n",
        "}\n",
        "// Allocate memory on device\n",
        "cudaMalloc(&d_a, size);\n",
        "cudaMalloc(&d_b, size);\n",
        "cudaMalloc(&d_c, size);\n",
        "// Copy data from host to device\n",
        "cudaMemcpy(d_a, a, size, cudaMemcpyHostToDevice);\n",
        "cudaMemcpy(d_b, b, size, cudaMemcpyHostToDevice);\n",
        "// Launch kernel with 1 million threads\n",
        "add<<<(N + 255) / 256, 256>>>(d_a, d_b, d_c);\n",
        "// Copy result from device to host\n",
        "cudaMemcpy(c, d_c, size, cudaMemcpyDeviceToHost);\n",
        "// Print first and last elements of result\n",
        "printf(\"c[0]=%d, c[%d] = %d\",c[0],N-1,c[N-1]);\n",
        "// Free memory\n",
        "free(a);\n",
        "free(b);\n",
        "free(c);\n",
        "cudaFree(d_a);\n",
        "cudaFree(d_b);\n",
        "cudaFree(d_c);\n",
        "return 0;\n",
        "}\n",
        "\"\"\"\n"
      ],
      "metadata": {
        "id": "9Y5dSpixT19v"
      },
      "execution_count": null,
      "outputs": []
    },
    {
      "cell_type": "code",
      "source": [
        "text_file = open(\"Untitled2.cu\",\"w\")\n",
        "text_file.write(code)\n",
        "text_file.close()\n"
      ],
      "metadata": {
        "id": "Kgu8IQ02T_MZ"
      },
      "execution_count": null,
      "outputs": []
    },
    {
      "cell_type": "code",
      "source": [
        "!nvcc \"Untitled2.cu"
      ],
      "metadata": {
        "colab": {
          "base_uri": "https://localhost:8080/"
        },
        "id": "3aKVESphUVcn",
        "outputId": "cdd8a6dd-4f14-4708-fbc5-16ecc0e8dc55"
      },
      "execution_count": null,
      "outputs": [
        {
          "output_type": "stream",
          "name": "stdout",
          "text": [
            "/bin/bash: -c: line 0: unexpected EOF while looking for matching `\"'\n",
            "/bin/bash: -c: line 1: syntax error: unexpected end of file\n"
          ]
        }
      ]
    },
    {
      "cell_type": "code",
      "source": [
        "!./a.out"
      ],
      "metadata": {
        "colab": {
          "base_uri": "https://localhost:8080/"
        },
        "id": "GxBvKsnjUtC6",
        "outputId": "9c89a981-3db4-4721-98a0-da597a581545"
      },
      "execution_count": null,
      "outputs": [
        {
          "output_type": "stream",
          "name": "stdout",
          "text": [
            "c[0]=0, c[999999] = 2999997"
          ]
        }
      ]
    },
    {
      "cell_type": "code",
      "source": [
        "!nvprof ./a.out"
      ],
      "metadata": {
        "colab": {
          "base_uri": "https://localhost:8080/"
        },
        "id": "J_R03_xrU2le",
        "outputId": "ead7d486-01ca-415c-8db2-282ccca90963"
      },
      "execution_count": null,
      "outputs": [
        {
          "output_type": "stream",
          "name": "stdout",
          "text": [
            "==4256== NVPROF is profiling process 4256, command: ./a.out\n",
            "==4256== c[0]=0, c[999999] = 2999997Profiling application: ./a.out\n",
            "==4256== Profiling result:\n",
            "            Type  Time(%)      Time     Calls       Avg       Min       Max  Name\n",
            " GPU activities:   50.33%  1.5330ms         1  1.5330ms  1.5330ms  1.5330ms  [CUDA memcpy DtoH]\n",
            "                   48.12%  1.4654ms         2  732.71us  695.15us  770.26us  [CUDA memcpy HtoD]\n",
            "                    1.55%  47.200us         1  47.200us  47.200us  47.200us  add(int*, int*, int*)\n",
            "      API calls:   97.09%  217.99ms         3  72.664ms  67.341us  217.84ms  cudaMalloc\n",
            "                    2.07%  4.6534ms         3  1.5511ms  943.45us  2.7495ms  cudaMemcpy\n",
            "                    0.52%  1.1681ms         1  1.1681ms  1.1681ms  1.1681ms  cuDeviceGetPCIBusId\n",
            "                    0.23%  513.24us         3  171.08us  133.21us  196.75us  cudaFree\n",
            "                    0.06%  127.49us       101  1.2620us     132ns  51.606us  cuDeviceGetAttribute\n",
            "                    0.01%  32.666us         1  32.666us  32.666us  32.666us  cudaLaunchKernel\n",
            "                    0.01%  24.265us         1  24.265us  24.265us  24.265us  cuDeviceGetName\n",
            "                    0.00%  1.9110us         3     637ns     247ns  1.3510us  cuDeviceGetCount\n",
            "                    0.00%  1.1970us         2     598ns     257ns     940ns  cuDeviceGet\n",
            "                    0.00%     477ns         1     477ns     477ns     477ns  cuModuleGetLoadingMode\n",
            "                    0.00%     420ns         1     420ns     420ns     420ns  cuDeviceTotalMem\n",
            "                    0.00%     268ns         1     268ns     268ns     268ns  cuDeviceGetUuid\n"
          ]
        }
      ]
    }
  ]
}